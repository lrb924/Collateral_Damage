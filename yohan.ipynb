{
 "cells": [
  {
   "cell_type": "code",
   "execution_count": 3,
   "metadata": {},
   "outputs": [],
   "source": [
    "#Yohan's code:\n",
    "\n",
    "import quandl\n",
    "import json\n",
    "import requests\n",
    "from dotenv import load_dotenv"
   ]
  },
  {
   "cell_type": "code",
   "execution_count": 4,
   "metadata": {},
   "outputs": [
    {
     "ename": "NameError",
     "evalue": "name 'os' is not defined",
     "output_type": "error",
     "traceback": [
      "\u001b[1;31m---------------------------------------------------------------------------\u001b[0m",
      "\u001b[1;31mNameError\u001b[0m                                 Traceback (most recent call last)",
      "Input \u001b[1;32mIn [4]\u001b[0m, in \u001b[0;36m<cell line: 2>\u001b[1;34m()\u001b[0m\n\u001b[0;32m      1\u001b[0m load_dotenv()\n\u001b[1;32m----> 2\u001b[0m nasdaq_apikey \u001b[38;5;241m=\u001b[39m \u001b[43mos\u001b[49m\u001b[38;5;241m.\u001b[39mgetenv(\u001b[38;5;124m\"\u001b[39m\u001b[38;5;124mAPI_NASDAQ\u001b[39m\u001b[38;5;124m\"\u001b[39m)\n",
      "\u001b[1;31mNameError\u001b[0m: name 'os' is not defined"
     ]
    }
   ],
   "source": [
    "load_dotenv()\n",
    "nasdaq_apikey = os.getenv(\"API_NASDAQ\")\n"
   ]
  },
  {
   "cell_type": "code",
   "execution_count": 5,
   "metadata": {},
   "outputs": [
    {
     "ename": "NameError",
     "evalue": "name 'nasdaq_apikey' is not defined",
     "output_type": "error",
     "traceback": [
      "\u001b[1;31m---------------------------------------------------------------------------\u001b[0m",
      "\u001b[1;31mNameError\u001b[0m                                 Traceback (most recent call last)",
      "Input \u001b[1;32mIn [5]\u001b[0m, in \u001b[0;36m<cell line: 1>\u001b[1;34m()\u001b[0m\n\u001b[1;32m----> 1\u001b[0m display(\u001b[43mnasdaq_apikey\u001b[49m)\n",
      "\u001b[1;31mNameError\u001b[0m: name 'nasdaq_apikey' is not defined"
     ]
    }
   ],
   "source": [
    "display(nasdaq_apikey)\n"
   ]
  },
  {
   "cell_type": "code",
   "execution_count": 6,
   "metadata": {},
   "outputs": [
    {
     "ename": "NameError",
     "evalue": "name 'nasdaq_apikey' is not defined",
     "output_type": "error",
     "traceback": [
      "\u001b[1;31m---------------------------------------------------------------------------\u001b[0m",
      "\u001b[1;31mNameError\u001b[0m                                 Traceback (most recent call last)",
      "Input \u001b[1;32mIn [6]\u001b[0m, in \u001b[0;36m<cell line: 6>\u001b[1;34m()\u001b[0m\n\u001b[0;32m      4\u001b[0m indicator\u001b[38;5;241m=\u001b[39m\u001b[38;5;124m\"\u001b[39m\u001b[38;5;124mindicator_id=ZSFH&region_id=99999\u001b[39m\u001b[38;5;124m\"\u001b[39m\n\u001b[0;32m      5\u001b[0m api_request\u001b[38;5;241m=\u001b[39m\u001b[38;5;124m\"\u001b[39m\u001b[38;5;124m&api_key=\u001b[39m\u001b[38;5;124m\"\u001b[39m\n\u001b[1;32m----> 6\u001b[0m full_url \u001b[38;5;241m=\u001b[39m url1\u001b[38;5;241m+\u001b[39mindicator\u001b[38;5;241m+\u001b[39mapi_request\u001b[38;5;241m+\u001b[39m\u001b[43mnasdaq_apikey\u001b[49m\n\u001b[0;32m      7\u001b[0m \u001b[38;5;28mprint\u001b[39m(full_url)\n",
      "\u001b[1;31mNameError\u001b[0m: name 'nasdaq_apikey' is not defined"
     ]
    }
   ],
   "source": [
    "#https://data.nasdaq.com/api/v3/datatables/ZILLOW/DATA?indicator_id=ZSFH&region_id=99999&api_key=hxzAbJQQtK44mmcH5vf3\n",
    "\n",
    "url1=\"https://data.nasdaq.com/api/v3/datatables/ZILLOW/DATA?\"\n",
    "indicator=\"indicator_id=ZSFH&region_id=99999\"\n",
    "api_request=\"&api_key=\"\n",
    "full_url = url1+indicator+api_request+nasdaq_apikey\n",
    "print(full_url)"
   ]
  },
  {
   "cell_type": "code",
   "execution_count": null,
   "metadata": {},
   "outputs": [],
   "source": [
    "response=requests.get(full_url)\n",
    "data=response.json()\n",
    "display(data)"
   ]
  },
  {
   "cell_type": "code",
   "execution_count": null,
   "metadata": {},
   "outputs": [],
   "source": [
    "# This line is to test changes and commit.\n",
    "#end of Yohan's original code. Following portions are copied from data anayltics and housing."
   ]
  },
  {
   "cell_type": "code",
   "execution_count": null,
   "metadata": {},
   "outputs": [],
   "source": [
    "### Installing the required packages \n",
    "\n",
    "!pip install pandas\n",
    "!pip install quandl\n",
    "!pip install matplotlib\n",
    "!pip install yfinance\n",
    "!pip install python-dotenv"
   ]
  },
  {
   "cell_type": "code",
   "execution_count": null,
   "metadata": {},
   "outputs": [],
   "source": [
    "import pandas as pd \n",
    "import os\n",
    "import quandl\n",
    "import yfinance as yf\n",
    "import matplotlib.pyplot as plt\n",
    "from datetime import date\n",
    "from dotenv import load_dotenv\n",
    "\n",
    "#yohan's addition:\n",
    "import hvplot.pandas"
   ]
  },
  {
   "cell_type": "code",
   "execution_count": null,
   "metadata": {},
   "outputs": [],
   "source": [
    "###loading the .env environment variables\n",
    "\n",
    "load_dotenv()"
   ]
  },
  {
   "cell_type": "code",
   "execution_count": null,
   "metadata": {},
   "outputs": [],
   "source": [
    "## getting the environment variables\n",
    "q_API_KEY = os.getenv('QUANDL_API_KEY')"
   ]
  },
  {
   "cell_type": "code",
   "execution_count": null,
   "metadata": {},
   "outputs": [],
   "source": [
    "## setting the API key\n",
    "quandl.ApiConfig.api_key = q_API_KEY"
   ]
  },
  {
   "cell_type": "code",
   "execution_count": null,
   "metadata": {},
   "outputs": [],
   "source": [
    "## getting unemployment data during the gulf war\n",
    "\n",
    "gulf_unemp_df = quandl.get([\"FRED/UNRATE\", \"FRED/UNEMPLOY\"], trim_start = \"1990-02-1\", trim_end=\"1991-02-28\", collapse = 'monthly')\n",
    "gulf_unemp_df.columns = ['Gulf_unemploy_rate', 'Gulf_unemploy_level']\n",
    "\n",
    "\n",
    "gulf_unemp_df\n",
    "\n",
    "#yohan's addition:\n",
    "#hvplot bar graph of gulf war unemploymment rate:\n",
    "gulf_unemp_df.hvplot.bar(\n",
    "    x=\"Date\",\n",
    "    y=\"Gulf_unemploy_rate\",\n",
    ").opts(\n",
    "    title=\"Unemployment Rate in various dates during Gulf War\",\n",
    "    xrotation=45\n",
    ")"
   ]
  },
  {
   "cell_type": "code",
   "execution_count": null,
   "metadata": {},
   "outputs": [],
   "source": [
    "## getting unemployment data 6 months before the Russia/Ukraine Invasion to date\n",
    "\n",
    "current_date = date.today()\n",
    "\n",
    "rus_unemp_df = quandl.get([\"FRED/UNRATE\", \"FRED/UNEMPLOY\"], trim_start = \"2021-09-1\", trim_end=current_date, collapse = 'monthly')\n",
    "rus_unemp_df.columns = ['rus_unemploy_rate', 'rus_unemploy_level']\n",
    "\n",
    "rus_unemp_df\n"
   ]
  },
  {
   "cell_type": "code",
   "execution_count": null,
   "metadata": {},
   "outputs": [],
   "source": [
    "## function to graph data \n",
    "\n",
    "def plot_graph(df, title:str, y_label: str):\n",
    "    \n",
    "        ## graphing the data\n",
    "\n",
    "    cols =[col for col in df.columns]\n",
    "\n",
    "    fig,ax = plt.subplots(1,1, figsize = (14,6))\n",
    "    plt.style.use('seaborn')\n",
    "\n",
    "    for c in cols: \n",
    "        ax.plot(c, linewidth=2, data=df)\n",
    "        ax.set_title(title)\n",
    "        plt.xlabel('Date')\n",
    "        plt.ylabel(y_label)\n",
    "\n",
    "        handles,labels = ax.get_legend_handles_labels()\n",
    "        ax.legend(handles, labels, loc='upper left', prop = {\"size\":10})\n",
    "\n",
    "    plt.show()"
   ]
  },
  {
   "cell_type": "code",
   "execution_count": null,
   "metadata": {},
   "outputs": [],
   "source": [
    "## graph showing the unemployment trend in from 6 months before the uk-russian invasion\n",
    "rus_df = rus_unemp_df[['rus_unemploy_rate']].copy()\n",
    "\n",
    "plot_graph(rus_df, title=\"Graph showing the trend in unemployment rate\", y_label=\"Unemployment rate\")\n",
    "\n",
    "# yohan's addition:\n",
    "#hvplot bar graph of Ukraine War unemployment rate:\n",
    "rus_df.hvplot.bar(\n",
    "    x=\"Date\",\n",
    "    y=\"rus_unemploy_rate\"\n",
    ").opts(\n",
    "    title=\"Ukraine War Unemployment Rate in Various Dates\"\n",
    ")"
   ]
  },
  {
   "cell_type": "code",
   "execution_count": null,
   "metadata": {},
   "outputs": [],
   "source": [
    "### Installing the required packages \n",
    "\n",
    "!pip install pandas\n",
    "!pip install quandl\n",
    "!pip install matplotlib\n",
    "!pip install yfinance\n",
    "!pip install python-dotenv"
   ]
  },
  {
   "cell_type": "code",
   "execution_count": null,
   "metadata": {},
   "outputs": [],
   "source": [
    "import pandas as pd \n",
    "import os\n",
    "import quandl\n",
    "import random\n",
    "import matplotlib.pyplot as plt\n",
    "from datetime import date\n",
    "from dotenv import load_dotenv\n",
    "import warnings\n",
    "\n",
    "\n",
    "## this is to ignore the df.mean() and df.median() run on the ukr_rus_df\n",
    "warnings.filterwarnings('ignore')"
   ]
  },
  {
   "cell_type": "code",
   "execution_count": null,
   "metadata": {},
   "outputs": [],
   "source": [
    "###loading the .env environment variables\n",
    "\n",
    "load_dotenv()"
   ]
  },
  {
   "cell_type": "code",
   "execution_count": null,
   "metadata": {},
   "outputs": [],
   "source": [
    "## setting up the API key\n",
    "quandl.ApiConfig.api_key = nasdaq_apikey"
   ]
  },
  {
   "cell_type": "code",
   "execution_count": null,
   "metadata": {},
   "outputs": [],
   "source": [
    "## Using Zillow to get historical data to get data for UK_RUS housing prices \n",
    "\n",
    "zillow_indicators = quandl.get_table(\"ZILLOW/INDICATORS\", paginate=True)\n",
    "\n",
    "## Since we are looking at home values\n",
    "\n",
    "mask = zillow_indicators['category']=='Home values'\n",
    "## This df describes the indicators present in the data set. We are going to use the \n",
    "## the ZALL indicatro (ZHVI All Homes(SFR, Condo/Co-op))\n",
    "home_values_ind = zillow_indicators[mask]\n",
    "\n",
    "## getting the zillow regions available on the API\n",
    "zillow_regions = quandl.get_table('ZILLOW/REGIONS', paginate= True)\n"
   ]
  },
  {
   "cell_type": "code",
   "execution_count": null,
   "metadata": {},
   "outputs": [],
   "source": [
    "### All the States in the US\n",
    "states = ['IA', 'KS', 'UT', 'VA', 'NC', 'NE', 'SD', 'AL', 'ID', 'FM', 'DE', 'AK', 'CT', 'PR', 'NM', 'MS', 'PW', 'CO', 'NJ', 'FL', 'MN', 'VI', 'NV', 'AZ', 'WI', 'ND', 'PA', 'OK', 'KY', 'RI', 'NH', 'MO', 'ME', 'VT', 'GA', 'GU', 'AS', 'NY', 'CA', 'HI', 'IL', 'TN', 'MA', 'OH', 'MD', 'MI', 'WY', 'WA', 'OR', 'MH', 'SC', 'IN', 'LA', 'MP', 'DC', 'MT', 'AR', 'WV', 'TX']\n",
    "\n",
    "##  The zip region column is list of strings we will use the zip field to find the state in which\n",
    "##  the region exists. \n",
    "## function to get the states in the region_field\n",
    "\n",
    "def state_check(search_field): \n",
    "    ## separating the search field data set into a list\n",
    "    search_field = [elem.strip() for elem in search_field.split(\";\")]\n",
    "    \n",
    "    for elem in search_field:\n",
    "        if elem in states: \n",
    "            return elem\n",
    "        \n",
    "## creating a state field. Using the zip region \n",
    "mask = zillow_regions['region_type']=='zip'\n",
    "\n",
    "zillow_regions_zip = zillow_regions[mask].copy()\n",
    "\n",
    "## Creating a state column using the state_check function\n",
    "zillow_regions_zip['state'] = zillow_regions_zip.apply(lambda x: state_check(x['region']), axis =1)\n",
    "\n",
    "zillow_regions_zip"
   ]
  },
  {
   "cell_type": "code",
   "execution_count": null,
   "metadata": {},
   "outputs": [],
   "source": [
    "for id, state in enumerate(states):\n",
    "    \n",
    "    ## getting the rows with the current state value\n",
    "    mask = zillow_regions_zip['state']==state\n",
    "    \n",
    "    ## filtering the rows out in the dataframe\n",
    "    zillow_ak = zillow_regions_zip[mask]\n",
    "    \n",
    "    ##getting the region_ids for that particular state\n",
    "    region_ids = zillow_ak['region_id'].unique()\n",
    "    \n",
    "    ## to monitor the progress\n",
    "    print(id)\n",
    "    ## creating a list of the region ids so as to get that with those particular IDs\n",
    "    ids = list(region_ids)\n",
    "    \n",
    "    \n",
    "    \n",
    "    ## Checking if ids are greater than 100 since we are only going to pick a random sample of 100\n",
    "    if len(ids)>100:\n",
    "        r_ids = random.sample(ids, 30)\n",
    "    elif len(ids)==0:\n",
    "        continue\n",
    "    else: \n",
    "        r_ids = ids\n",
    "    \n",
    "      \n",
    "    ### getting the dataframe containing the house prices using the ZALL indicator id from the home_values_ind \n",
    "    ## dataframe\n",
    "    df = quandl.get_table('ZILLOW/DATA', indicator_id=\"ZALL\", region_id=r_ids , paginate = True)\n",
    "    \n",
    "    ### grouping the values by date and then finding the average\n",
    "    \n",
    "    data = df.groupby(['date'])['value'].mean()\n",
    "    \n",
    "    ## Checking if it is the first iteration: \n",
    "    if id==0: \n",
    "        data_df = pd.DataFrame(data)\n",
    "        data_df.rename(columns = {'value': state}, inplace = True)\n",
    "        data_df.reset_index(inplace = True)\n",
    "    else:\n",
    "        new_df = pd.DataFrame(data)\n",
    "        new_df.rename(columns = {'value': state}, inplace = True)\n",
    "        new_df.reset_index(inplace = True)\n",
    "        data_df = pd.merge(data_df, new_df, how = 'left')"
   ]
  },
  {
   "cell_type": "code",
   "execution_count": null,
   "metadata": {},
   "outputs": [],
   "source": [
    "## getting recent data for the uk-rus invasion \n",
    "mask = data_df['date']>=\"2021-09-01\"\n",
    "\n",
    "## recent data containing average prices for every month from 6 months before the war for every state\n",
    "ukr_rus_df = data_df[mask].copy()\n",
    "\n",
    "ukr_rus_df = ukr_rus_df.round(2)\n",
    "\n",
    "## Calculating the national average\n",
    "ukr_rus_df['national_average'] = ukr_rus_df.mean(axis=1).round(2)\n",
    "\n",
    "ukr_rus_df['national_median'] = ukr_rus_df.median(axis=1).round(2)\n",
    "\n",
    "ukr_rus_df"
   ]
  },
  {
   "cell_type": "code",
   "execution_count": null,
   "metadata": {},
   "outputs": [],
   "source": [
    "## plotting the national average and national median \n",
    "ukr_rus_plot_df = ukr_rus_df.set_index('date')\n",
    "\n",
    "\n",
    "cols =['national_average', 'national_median']\n",
    "\n",
    "fig,ax = plt.subplots(1,1, figsize = (14,6))\n",
    "plt.style.use('seaborn')\n",
    "\n",
    "for c in cols: \n",
    "    ax.plot(c, linewidth=2, data=ukr_rus_plot_df)\n",
    "    ax.set_title('Plot of national_average and national_median')\n",
    "    plt.xlabel('Date')\n",
    "    plt.ylabel('Housing Prices')\n",
    "\n",
    "    handles,labels = ax.get_legend_handles_labels()\n",
    "    ax.legend(handles, labels, loc='upper left', prop = {\"size\":10})\n",
    "\n",
    "plt.show()"
   ]
  },
  {
   "cell_type": "code",
   "execution_count": null,
   "metadata": {},
   "outputs": [],
   "source": [
    "#yohan's addition. Hvplot bar graph:\n",
    "ukr_rus_df.hvplot.bar(\n",
    "    x=\"date\",\n",
    "    y=\"national_median\",\n",
    ").opts(\n",
    "    title=\"Ukrainian War. Median home prices.\",\n",
    "    xrotation=45\n",
    ")"
   ]
  },
  {
   "cell_type": "code",
   "execution_count": null,
   "metadata": {},
   "outputs": [],
   "source": [
    "## Gulf war housing prices index. There's limited out there for this luckily FRED has quartely data for\n",
    "## housing prices in the 1990s.\n",
    "## Zillow housing data starts in 1996\n",
    "# For some reason quandle cannot read the QUSR628BIS\n",
    "## downloaded the xls filefrom here https://fred.stlouisfed.org/series/QUSR628BIS\n",
    "\n",
    "df = pd.read_csv('Resources/gulf_war_index.csv')\n",
    "\n",
    "\n",
    "df['observation_date'] = pd.to_datetime(df['observation_date'])\n",
    "\n",
    "df.rename(columns = {'QUSR628BIS': 'quarterly_housing_prices'}, inplace = True)"
   ]
  },
  {
   "cell_type": "code",
   "execution_count": null,
   "metadata": {},
   "outputs": [],
   "source": [
    "## gettting data from 1990-02-1 to 1991-02-28\n",
    "## since it's quarterly, \n",
    "\n",
    "mask1 = df['observation_date'] >= \"1990-01-1\"\n",
    "\n",
    "mask2 = df['observation_date'] <= \"1991-03-01\"\n",
    "\n",
    "mask = mask1&mask2\n",
    "\n",
    "gulf_df = df[mask]\n",
    "\n",
    "gulf_df"
   ]
  },
  {
   "cell_type": "code",
   "execution_count": null,
   "metadata": {},
   "outputs": [],
   "source": [
    "## plotting the quartely pricing index for the gulf war. \n",
    "gulf_plot_df = gulf_df.set_index('observation_date')\n",
    "\n",
    "fig,ax = plt.subplots(1,1, figsize = (14,6))\n",
    "plt.style.use('seaborn')\n",
    "\n",
    "ax.plot('quarterly_housing_prices', linewidth=3, data=gulf_plot_df)\n",
    "ax.set_title('Plot of Quarterly house pricing index during the Gulf War ')\n",
    "plt.xlabel('Date')\n",
    "plt.ylabel('Quarterly Housing Price Index (Index 2010=100)')\n",
    "\n",
    "handles,labels = ax.get_legend_handles_labels()\n",
    "ax.legend(handles, labels, loc='lower left', prop = {\"size\":10})\n",
    "\n",
    "plt.show()"
   ]
  },
  {
   "cell_type": "code",
   "execution_count": null,
   "metadata": {},
   "outputs": [],
   "source": [
    "#yohan's addition. Hvplot bar graph:\n",
    "gulf_df.hvplot.bar(\n",
    "    x=\"observation_date\",\n",
    "    y=\"quarterly_housing_prices\",\n",
    ").opts(\n",
    "    title=\"Gulf War. home prices.\",\n",
    "    xrotation=45\n",
    ")"
   ]
  },
  {
   "cell_type": "code",
   "execution_count": null,
   "metadata": {},
   "outputs": [],
   "source": []
  },
  {
   "cell_type": "code",
   "execution_count": null,
   "metadata": {},
   "outputs": [],
   "source": []
  },
  {
   "cell_type": "code",
   "execution_count": null,
   "metadata": {},
   "outputs": [],
   "source": []
  }
 ],
 "metadata": {
  "kernelspec": {
   "display_name": "Python 3 (ipykernel)",
   "language": "python",
   "name": "python3"
  },
  "language_info": {
   "codemirror_mode": {
    "name": "ipython",
    "version": 3
   },
   "file_extension": ".py",
   "mimetype": "text/x-python",
   "name": "python",
   "nbconvert_exporter": "python",
   "pygments_lexer": "ipython3",
   "version": "3.9.12"
  },
  "vscode": {
   "interpreter": {
    "hash": "4acbcab32c94a325b0a7da4c51e18549dcc710d6ec26a1c148876cf2389fefa0"
   }
  }
 },
 "nbformat": 4,
 "nbformat_minor": 2
}
