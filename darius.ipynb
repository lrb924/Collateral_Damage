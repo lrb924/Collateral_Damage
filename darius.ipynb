{
 "cells": [
  {
   "cell_type": "code",
   "execution_count": 181,
   "id": "81d03c98",
   "metadata": {
    "scrolled": true
   },
   "outputs": [],
   "source": [
    "import pandas as pd\n",
    "import numpy as np\n",
    "import quandl\n",
    "import requests\n",
    "from dotenv import load_dotenv\n",
    "import os\n",
    "import requests\n",
    "import json\n",
    "import yfinance as yf\n",
    "import matplotlib.pyplot as plt\n",
    "\n"
   ]
  },
  {
   "cell_type": "code",
   "execution_count": 182,
   "id": "fb0e9c48",
   "metadata": {},
   "outputs": [
    {
     "name": "stdout",
     "output_type": "stream",
     "text": [
      "[*********************100%***********************]  1 of 1 completed\n",
      "[*********************100%***********************]  1 of 1 completed\n",
      "[*********************100%***********************]  1 of 1 completed\n",
      "[*********************100%***********************]  1 of 1 completed\n"
     ]
    }
   ],
   "source": [
    "# Get weapons stock data for Gulf War\n",
    "tickerStrings = [\"LMT\", \"BA\", \"RTX\", \"NOC\"]\n",
    "df_list = list()\n",
    "for ticker in tickerStrings:\n",
    "    data = yf.download(ticker, group_by=\"Ticker\", start=\"1990-02-01\", end=\"1991-02-28\")\n",
    "    data[\"ticker\"] = ticker  # add this column because the dataframe doesn't contain a column with the ticker\n",
    "    df_list.append(data)\n",
    "\n",
    "# combine all dataframes into a single dataframe\n",
    "weapons_gulf_df = pd.concat(df_list)"
   ]
  },
  {
   "cell_type": "code",
   "execution_count": 183,
   "id": "e285fc17",
   "metadata": {},
   "outputs": [
    {
     "data": {
      "text/html": [
       "<div>\n",
       "<style scoped>\n",
       "    .dataframe tbody tr th:only-of-type {\n",
       "        vertical-align: middle;\n",
       "    }\n",
       "\n",
       "    .dataframe tbody tr th {\n",
       "        vertical-align: top;\n",
       "    }\n",
       "\n",
       "    .dataframe thead th {\n",
       "        text-align: right;\n",
       "    }\n",
       "</style>\n",
       "<table border=\"1\" class=\"dataframe\">\n",
       "  <thead>\n",
       "    <tr style=\"text-align: right;\">\n",
       "      <th></th>\n",
       "      <th>Open</th>\n",
       "      <th>High</th>\n",
       "      <th>Low</th>\n",
       "      <th>Close</th>\n",
       "      <th>Adj Close</th>\n",
       "      <th>Volume</th>\n",
       "      <th>ticker</th>\n",
       "    </tr>\n",
       "    <tr>\n",
       "      <th>Date</th>\n",
       "      <th></th>\n",
       "      <th></th>\n",
       "      <th></th>\n",
       "      <th></th>\n",
       "      <th></th>\n",
       "      <th></th>\n",
       "      <th></th>\n",
       "    </tr>\n",
       "  </thead>\n",
       "  <tbody>\n",
       "    <tr>\n",
       "      <th>1990-02-01</th>\n",
       "      <td>11.963190</td>\n",
       "      <td>11.963190</td>\n",
       "      <td>11.694785</td>\n",
       "      <td>11.733129</td>\n",
       "      <td>4.849934</td>\n",
       "      <td>163000</td>\n",
       "      <td>LMT</td>\n",
       "    </tr>\n",
       "    <tr>\n",
       "      <th>1990-02-02</th>\n",
       "      <td>11.656442</td>\n",
       "      <td>11.924847</td>\n",
       "      <td>11.656442</td>\n",
       "      <td>11.924847</td>\n",
       "      <td>4.929178</td>\n",
       "      <td>399676</td>\n",
       "      <td>LMT</td>\n",
       "    </tr>\n",
       "    <tr>\n",
       "      <th>1990-02-05</th>\n",
       "      <td>12.039877</td>\n",
       "      <td>12.078221</td>\n",
       "      <td>11.694785</td>\n",
       "      <td>11.694785</td>\n",
       "      <td>4.834085</td>\n",
       "      <td>421192</td>\n",
       "      <td>LMT</td>\n",
       "    </tr>\n",
       "    <tr>\n",
       "      <th>1990-02-06</th>\n",
       "      <td>11.694785</td>\n",
       "      <td>11.694785</td>\n",
       "      <td>11.273006</td>\n",
       "      <td>11.311350</td>\n",
       "      <td>4.675592</td>\n",
       "      <td>262430</td>\n",
       "      <td>LMT</td>\n",
       "    </tr>\n",
       "    <tr>\n",
       "      <th>1990-02-07</th>\n",
       "      <td>11.273006</td>\n",
       "      <td>11.388037</td>\n",
       "      <td>11.081288</td>\n",
       "      <td>11.273006</td>\n",
       "      <td>4.659739</td>\n",
       "      <td>567892</td>\n",
       "      <td>LMT</td>\n",
       "    </tr>\n",
       "    <tr>\n",
       "      <th>...</th>\n",
       "      <td>...</td>\n",
       "      <td>...</td>\n",
       "      <td>...</td>\n",
       "      <td>...</td>\n",
       "      <td>...</td>\n",
       "      <td>...</td>\n",
       "      <td>...</td>\n",
       "    </tr>\n",
       "    <tr>\n",
       "      <th>1991-02-21</th>\n",
       "      <td>11.350219</td>\n",
       "      <td>11.576094</td>\n",
       "      <td>11.237281</td>\n",
       "      <td>11.293750</td>\n",
       "      <td>5.196211</td>\n",
       "      <td>648810</td>\n",
       "      <td>NOC</td>\n",
       "    </tr>\n",
       "    <tr>\n",
       "      <th>1991-02-22</th>\n",
       "      <td>11.293750</td>\n",
       "      <td>11.576094</td>\n",
       "      <td>11.237281</td>\n",
       "      <td>11.293750</td>\n",
       "      <td>5.196211</td>\n",
       "      <td>410847</td>\n",
       "      <td>NOC</td>\n",
       "    </tr>\n",
       "    <tr>\n",
       "      <th>1991-02-25</th>\n",
       "      <td>11.406688</td>\n",
       "      <td>11.519625</td>\n",
       "      <td>11.180813</td>\n",
       "      <td>11.293750</td>\n",
       "      <td>5.196211</td>\n",
       "      <td>408190</td>\n",
       "      <td>NOC</td>\n",
       "    </tr>\n",
       "    <tr>\n",
       "      <th>1991-02-26</th>\n",
       "      <td>11.067875</td>\n",
       "      <td>11.067875</td>\n",
       "      <td>10.898469</td>\n",
       "      <td>10.898469</td>\n",
       "      <td>5.075244</td>\n",
       "      <td>475484</td>\n",
       "      <td>NOC</td>\n",
       "    </tr>\n",
       "    <tr>\n",
       "      <th>1991-02-27</th>\n",
       "      <td>11.011406</td>\n",
       "      <td>11.350219</td>\n",
       "      <td>10.898469</td>\n",
       "      <td>11.293750</td>\n",
       "      <td>5.259322</td>\n",
       "      <td>524184</td>\n",
       "      <td>NOC</td>\n",
       "    </tr>\n",
       "  </tbody>\n",
       "</table>\n",
       "<p>1084 rows × 7 columns</p>\n",
       "</div>"
      ],
      "text/plain": [
       "                 Open       High        Low      Close  Adj Close  Volume  \\\n",
       "Date                                                                        \n",
       "1990-02-01  11.963190  11.963190  11.694785  11.733129   4.849934  163000   \n",
       "1990-02-02  11.656442  11.924847  11.656442  11.924847   4.929178  399676   \n",
       "1990-02-05  12.039877  12.078221  11.694785  11.694785   4.834085  421192   \n",
       "1990-02-06  11.694785  11.694785  11.273006  11.311350   4.675592  262430   \n",
       "1990-02-07  11.273006  11.388037  11.081288  11.273006   4.659739  567892   \n",
       "...               ...        ...        ...        ...        ...     ...   \n",
       "1991-02-21  11.350219  11.576094  11.237281  11.293750   5.196211  648810   \n",
       "1991-02-22  11.293750  11.576094  11.237281  11.293750   5.196211  410847   \n",
       "1991-02-25  11.406688  11.519625  11.180813  11.293750   5.196211  408190   \n",
       "1991-02-26  11.067875  11.067875  10.898469  10.898469   5.075244  475484   \n",
       "1991-02-27  11.011406  11.350219  10.898469  11.293750   5.259322  524184   \n",
       "\n",
       "           ticker  \n",
       "Date               \n",
       "1990-02-01    LMT  \n",
       "1990-02-02    LMT  \n",
       "1990-02-05    LMT  \n",
       "1990-02-06    LMT  \n",
       "1990-02-07    LMT  \n",
       "...           ...  \n",
       "1991-02-21    NOC  \n",
       "1991-02-22    NOC  \n",
       "1991-02-25    NOC  \n",
       "1991-02-26    NOC  \n",
       "1991-02-27    NOC  \n",
       "\n",
       "[1084 rows x 7 columns]"
      ]
     },
     "execution_count": 183,
     "metadata": {},
     "output_type": "execute_result"
    }
   ],
   "source": [
    "weapons_gulf_df"
   ]
  },
  {
   "cell_type": "code",
   "execution_count": 184,
   "id": "b836de56",
   "metadata": {},
   "outputs": [],
   "source": [
    "# Convert dataframe to csv\n",
    "weapons_gulf_df.to_csv(\"weapons_gulf.csv\")"
   ]
  },
  {
   "cell_type": "code",
   "execution_count": 185,
   "id": "62c922d9",
   "metadata": {},
   "outputs": [
    {
     "name": "stdout",
     "output_type": "stream",
     "text": [
      "[*********************100%***********************]  1 of 1 completed\n",
      "[*********************100%***********************]  1 of 1 completed\n",
      "[*********************100%***********************]  1 of 1 completed\n",
      "[*********************100%***********************]  1 of 1 completed\n"
     ]
    }
   ],
   "source": [
    "# Get weapon stock data for Russia-Ukraine Invasion\n",
    "tickerStrings = [\"LMT\", \"BA\", \"RTX\", \"NOC\"]\n",
    "df_list = list()\n",
    "for ticker in tickerStrings:\n",
    "    data = yf.download(ticker, group_by=\"Ticker\", start=\"2021-08-24\", end=\"2022-07-29\")\n",
    "    data[\"ticker\"] = ticker  # add this column because the dataframe doesn't contain a column with the ticker\n",
    "    df_list.append(data)\n",
    "\n",
    "# combine all dataframes into a single dataframe\n",
    "weapons_rusua_df = pd.concat(df_list)"
   ]
  },
  {
   "cell_type": "code",
   "execution_count": 186,
   "id": "dc778f47",
   "metadata": {},
   "outputs": [
    {
     "data": {
      "text/html": [
       "<div>\n",
       "<style scoped>\n",
       "    .dataframe tbody tr th:only-of-type {\n",
       "        vertical-align: middle;\n",
       "    }\n",
       "\n",
       "    .dataframe tbody tr th {\n",
       "        vertical-align: top;\n",
       "    }\n",
       "\n",
       "    .dataframe thead th {\n",
       "        text-align: right;\n",
       "    }\n",
       "</style>\n",
       "<table border=\"1\" class=\"dataframe\">\n",
       "  <thead>\n",
       "    <tr style=\"text-align: right;\">\n",
       "      <th></th>\n",
       "      <th>Open</th>\n",
       "      <th>High</th>\n",
       "      <th>Low</th>\n",
       "      <th>Close</th>\n",
       "      <th>Adj Close</th>\n",
       "      <th>Volume</th>\n",
       "      <th>ticker</th>\n",
       "    </tr>\n",
       "    <tr>\n",
       "      <th>Date</th>\n",
       "      <th></th>\n",
       "      <th></th>\n",
       "      <th></th>\n",
       "      <th></th>\n",
       "      <th></th>\n",
       "      <th></th>\n",
       "      <th></th>\n",
       "    </tr>\n",
       "  </thead>\n",
       "  <tbody>\n",
       "    <tr>\n",
       "      <th>2021-08-24</th>\n",
       "      <td>358.970001</td>\n",
       "      <td>360.489990</td>\n",
       "      <td>357.920013</td>\n",
       "      <td>359.000000</td>\n",
       "      <td>348.898315</td>\n",
       "      <td>822600</td>\n",
       "      <td>LMT</td>\n",
       "    </tr>\n",
       "    <tr>\n",
       "      <th>2021-08-25</th>\n",
       "      <td>359.690002</td>\n",
       "      <td>360.649994</td>\n",
       "      <td>357.989990</td>\n",
       "      <td>358.750000</td>\n",
       "      <td>348.655365</td>\n",
       "      <td>953500</td>\n",
       "      <td>LMT</td>\n",
       "    </tr>\n",
       "    <tr>\n",
       "      <th>2021-08-26</th>\n",
       "      <td>359.100006</td>\n",
       "      <td>361.980011</td>\n",
       "      <td>357.239990</td>\n",
       "      <td>361.619995</td>\n",
       "      <td>351.444580</td>\n",
       "      <td>1172400</td>\n",
       "      <td>LMT</td>\n",
       "    </tr>\n",
       "    <tr>\n",
       "      <th>2021-08-27</th>\n",
       "      <td>363.290009</td>\n",
       "      <td>364.329987</td>\n",
       "      <td>361.179993</td>\n",
       "      <td>361.989990</td>\n",
       "      <td>351.804199</td>\n",
       "      <td>1203900</td>\n",
       "      <td>LMT</td>\n",
       "    </tr>\n",
       "    <tr>\n",
       "      <th>2021-08-30</th>\n",
       "      <td>362.250000</td>\n",
       "      <td>363.959991</td>\n",
       "      <td>361.750000</td>\n",
       "      <td>362.049988</td>\n",
       "      <td>351.862488</td>\n",
       "      <td>986000</td>\n",
       "      <td>LMT</td>\n",
       "    </tr>\n",
       "    <tr>\n",
       "      <th>...</th>\n",
       "      <td>...</td>\n",
       "      <td>...</td>\n",
       "      <td>...</td>\n",
       "      <td>...</td>\n",
       "      <td>...</td>\n",
       "      <td>...</td>\n",
       "      <td>...</td>\n",
       "    </tr>\n",
       "    <tr>\n",
       "      <th>2022-07-22</th>\n",
       "      <td>457.369995</td>\n",
       "      <td>463.260010</td>\n",
       "      <td>450.010010</td>\n",
       "      <td>451.850006</td>\n",
       "      <td>451.850006</td>\n",
       "      <td>864700</td>\n",
       "      <td>NOC</td>\n",
       "    </tr>\n",
       "    <tr>\n",
       "      <th>2022-07-25</th>\n",
       "      <td>451.890015</td>\n",
       "      <td>459.739990</td>\n",
       "      <td>451.109985</td>\n",
       "      <td>453.320007</td>\n",
       "      <td>453.320007</td>\n",
       "      <td>826500</td>\n",
       "      <td>NOC</td>\n",
       "    </tr>\n",
       "    <tr>\n",
       "      <th>2022-07-26</th>\n",
       "      <td>453.149994</td>\n",
       "      <td>455.109985</td>\n",
       "      <td>444.309998</td>\n",
       "      <td>444.649994</td>\n",
       "      <td>444.649994</td>\n",
       "      <td>702500</td>\n",
       "      <td>NOC</td>\n",
       "    </tr>\n",
       "    <tr>\n",
       "      <th>2022-07-27</th>\n",
       "      <td>445.579987</td>\n",
       "      <td>447.670013</td>\n",
       "      <td>441.399994</td>\n",
       "      <td>445.809998</td>\n",
       "      <td>445.809998</td>\n",
       "      <td>744600</td>\n",
       "      <td>NOC</td>\n",
       "    </tr>\n",
       "    <tr>\n",
       "      <th>2022-07-28</th>\n",
       "      <td>438.390015</td>\n",
       "      <td>455.880005</td>\n",
       "      <td>433.869995</td>\n",
       "      <td>454.459991</td>\n",
       "      <td>454.459991</td>\n",
       "      <td>1016600</td>\n",
       "      <td>NOC</td>\n",
       "    </tr>\n",
       "  </tbody>\n",
       "</table>\n",
       "<p>936 rows × 7 columns</p>\n",
       "</div>"
      ],
      "text/plain": [
       "                  Open        High         Low       Close   Adj Close  \\\n",
       "Date                                                                     \n",
       "2021-08-24  358.970001  360.489990  357.920013  359.000000  348.898315   \n",
       "2021-08-25  359.690002  360.649994  357.989990  358.750000  348.655365   \n",
       "2021-08-26  359.100006  361.980011  357.239990  361.619995  351.444580   \n",
       "2021-08-27  363.290009  364.329987  361.179993  361.989990  351.804199   \n",
       "2021-08-30  362.250000  363.959991  361.750000  362.049988  351.862488   \n",
       "...                ...         ...         ...         ...         ...   \n",
       "2022-07-22  457.369995  463.260010  450.010010  451.850006  451.850006   \n",
       "2022-07-25  451.890015  459.739990  451.109985  453.320007  453.320007   \n",
       "2022-07-26  453.149994  455.109985  444.309998  444.649994  444.649994   \n",
       "2022-07-27  445.579987  447.670013  441.399994  445.809998  445.809998   \n",
       "2022-07-28  438.390015  455.880005  433.869995  454.459991  454.459991   \n",
       "\n",
       "             Volume ticker  \n",
       "Date                        \n",
       "2021-08-24   822600    LMT  \n",
       "2021-08-25   953500    LMT  \n",
       "2021-08-26  1172400    LMT  \n",
       "2021-08-27  1203900    LMT  \n",
       "2021-08-30   986000    LMT  \n",
       "...             ...    ...  \n",
       "2022-07-22   864700    NOC  \n",
       "2022-07-25   826500    NOC  \n",
       "2022-07-26   702500    NOC  \n",
       "2022-07-27   744600    NOC  \n",
       "2022-07-28  1016600    NOC  \n",
       "\n",
       "[936 rows x 7 columns]"
      ]
     },
     "execution_count": 186,
     "metadata": {},
     "output_type": "execute_result"
    }
   ],
   "source": [
    "weapons_rusua_df"
   ]
  },
  {
   "cell_type": "code",
   "execution_count": 187,
   "id": "8adcbe1b",
   "metadata": {},
   "outputs": [],
   "source": [
    "# Convert dataframe to csv\n",
    "weapons_rusua_df.to_csv(\"weapons_rusua.csv\")"
   ]
  },
  {
   "cell_type": "code",
   "execution_count": 188,
   "id": "27b7c48f",
   "metadata": {},
   "outputs": [],
   "source": [
    "# Import crude oil prices from csv\n",
    "crude_df = pd.read_csv(\"Resources/Cushing_OK_WTI_Spot_Price_FOB.csv\")\n",
    "crude_df = crude_df.rename(columns={\"Cushing OK WTI Spot Price FOB Dollars per Barrel\":\"WTI in Dollars Per Barrel\"})"
   ]
  },
  {
   "cell_type": "code",
   "execution_count": 189,
   "id": "c9464d24",
   "metadata": {
    "scrolled": true
   },
   "outputs": [
    {
     "data": {
      "text/plain": [
       "Month                        0\n",
       "WTI in Dollars Per Barrel    0\n",
       "dtype: int64"
      ]
     },
     "execution_count": 189,
     "metadata": {},
     "output_type": "execute_result"
    }
   ],
   "source": [
    "# Check for null values\n",
    "crude_df.isnull().sum()"
   ]
  },
  {
   "cell_type": "code",
   "execution_count": 190,
   "id": "9c65b2f5",
   "metadata": {},
   "outputs": [],
   "source": [
    "# Change \"Month\" column to datetime object\n",
    "crude_df[\"Month\"]=pd.to_datetime(crude_df[\"Month\"])"
   ]
  },
  {
   "cell_type": "code",
   "execution_count": 191,
   "id": "538dd68a",
   "metadata": {},
   "outputs": [],
   "source": [
    "# Set \"Month\" as the index\n",
    "crude_df.set_index(\"Month\", inplace=True)"
   ]
  },
  {
   "cell_type": "code",
   "execution_count": 192,
   "id": "bd361cb7",
   "metadata": {},
   "outputs": [],
   "source": [
    "# Create Data Frame for oil prices during the Russian / Ukrainian Conflict\n",
    "rus_ua_oil = crude_df.iloc[0:11,:]"
   ]
  },
  {
   "cell_type": "code",
   "execution_count": 193,
   "id": "c9b46736",
   "metadata": {
    "scrolled": true
   },
   "outputs": [],
   "source": [
    "# Create Data Frame for oil prices during the Gulf War\n",
    "gulf_oil = crude_df.loc[\"Feb 1990\":\"Dec 1990\"]"
   ]
  },
  {
   "cell_type": "code",
   "execution_count": 194,
   "id": "e0975c7e",
   "metadata": {},
   "outputs": [],
   "source": [
    "## function to graph data \n",
    "\n",
    "def plot_graph(df, title:str, y_label: str):\n",
    "    \n",
    "        ## graphing the data\n",
    "\n",
    "    cols =[col for col in df.columns]\n",
    "\n",
    "    fig,ax = plt.subplots(1,1, figsize = (14,6))\n",
    "    plt.style.use('seaborn')\n",
    "\n",
    "    for c in cols: \n",
    "        ax.plot(c, linewidth=2, data=df)\n",
    "        ax.set_title(title)\n",
    "        plt.xlabel('Date')\n",
    "        plt.ylabel(y_label)\n",
    "\n",
    "        handles,labels = ax.get_legend_handles_labels()\n",
    "        ax.legend(handles, labels, loc='upper left', prop = {\"size\":10})\n",
    "\n",
    "    plt.show()"
   ]
  },
  {
   "cell_type": "code",
   "execution_count": 195,
   "id": "396d13bd",
   "metadata": {
    "scrolled": true
   },
   "outputs": [
    {
     "data": {
      "image/png": "[encoded data removed]",
      "text/plain": [
       "<Figure size 1008x432 with 1 Axes>"
      ]
     },
     "metadata": {},
     "output_type": "display_data"
    }
   ],
   "source": [
    "# Plot the data\n",
    "\n",
    "plot_graph(rus_ua_oil, title=\"US Oil Prices During Russian / Ukrainian Conflict\", y_label=\"Price Per Barrel\")"
   ]
  },
  {
   "cell_type": "code",
   "execution_count": 196,
   "id": "6a15ea49",
   "metadata": {
    "scrolled": true
   },
   "outputs": [
    {
     "data": {
      "image/png": "[encoded data removed]",
      "text/plain": [
       "<Figure size 1008x432 with 1 Axes>"
      ]
     },
     "metadata": {},
     "output_type": "display_data"
    }
   ],
   "source": [
    "plot_graph(gulf_oil, title=\"US Oil Prices During Gulf War\", y_label=\"Price Per Barrel\")"
   ]
  },
  {
   "cell_type": "code",
   "execution_count": 197,
   "id": "e822a312",
   "metadata": {},
   "outputs": [],
   "source": [
    "# Create data frame for oil prices during war in Iraq\n",
    "iraq_oil = crude_df.loc[\"Mar 2003\":\"Dec 2011\"]"
   ]
  },
  {
   "cell_type": "code",
   "execution_count": 199,
   "id": "90bcfeb0",
   "metadata": {
    "scrolled": true
   },
   "outputs": [
    {
     "data": {
      "image/png": "[encoded data removed]",
      "text/plain": [
       "<Figure size 1008x432 with 1 Axes>"
      ]
     },
     "metadata": {},
     "output_type": "display_data"
    }
   ],
   "source": [
    "# Plot graph for war in Iraq\n",
    "plot_graph(iraq_oil, title=\"US Oil Prices During War in Iraq\", y_label=\"Price Per Barrel\")"
   ]
  },
  {
   "cell_type": "code",
   "execution_count": 200,
   "id": "e84c1721",
   "metadata": {},
   "outputs": [
    {
     "data": {
      "text/plain": [
       "True"
      ]
     },
     "execution_count": 200,
     "metadata": {},
     "output_type": "execute_result"
    }
   ],
   "source": [
    "# Load .env environment variables\n",
    "load_dotenv()"
   ]
  },
  {
   "cell_type": "code",
   "execution_count": 201,
   "id": "d2b87a9f",
   "metadata": {},
   "outputs": [],
   "source": [
    "# Get the environment variables\n",
    "q_API_KEY = os.getenv('NASDAQ_API_KEY')"
   ]
  },
  {
   "cell_type": "code",
   "execution_count": 203,
   "id": "33210589",
   "metadata": {},
   "outputs": [],
   "source": [
    "# Set the API Key\n",
    "quandl.ApiConfig.api_key = q_API_KEY"
   ]
  },
  {
   "cell_type": "code",
   "execution_count": 204,
   "id": "5daf8333",
   "metadata": {},
   "outputs": [
    {
     "data": {
      "text/html": [
       "<div>\n",
       "<style scoped>\n",
       "    .dataframe tbody tr th:only-of-type {\n",
       "        vertical-align: middle;\n",
       "    }\n",
       "\n",
       "    .dataframe tbody tr th {\n",
       "        vertical-align: top;\n",
       "    }\n",
       "\n",
       "    .dataframe thead th {\n",
       "        text-align: right;\n",
       "    }\n",
       "</style>\n",
       "<table border=\"1\" class=\"dataframe\">\n",
       "  <thead>\n",
       "    <tr style=\"text-align: right;\">\n",
       "      <th></th>\n",
       "      <th>Iraq_unemploy_rate</th>\n",
       "      <th>Iraq_unemploy_level</th>\n",
       "    </tr>\n",
       "    <tr>\n",
       "      <th>Date</th>\n",
       "      <th></th>\n",
       "      <th></th>\n",
       "    </tr>\n",
       "  </thead>\n",
       "  <tbody>\n",
       "    <tr>\n",
       "      <th>2003-03-31</th>\n",
       "      <td>5.9</td>\n",
       "      <td>8588.0</td>\n",
       "    </tr>\n",
       "    <tr>\n",
       "      <th>2003-04-30</th>\n",
       "      <td>6.0</td>\n",
       "      <td>8842.0</td>\n",
       "    </tr>\n",
       "    <tr>\n",
       "      <th>2003-05-31</th>\n",
       "      <td>6.1</td>\n",
       "      <td>8957.0</td>\n",
       "    </tr>\n",
       "    <tr>\n",
       "      <th>2003-06-30</th>\n",
       "      <td>6.3</td>\n",
       "      <td>9266.0</td>\n",
       "    </tr>\n",
       "    <tr>\n",
       "      <th>2003-07-31</th>\n",
       "      <td>6.2</td>\n",
       "      <td>9011.0</td>\n",
       "    </tr>\n",
       "    <tr>\n",
       "      <th>...</th>\n",
       "      <td>...</td>\n",
       "      <td>...</td>\n",
       "    </tr>\n",
       "    <tr>\n",
       "      <th>2011-08-31</th>\n",
       "      <td>9.0</td>\n",
       "      <td>13818.0</td>\n",
       "    </tr>\n",
       "    <tr>\n",
       "      <th>2011-09-30</th>\n",
       "      <td>9.0</td>\n",
       "      <td>13948.0</td>\n",
       "    </tr>\n",
       "    <tr>\n",
       "      <th>2011-10-31</th>\n",
       "      <td>8.8</td>\n",
       "      <td>13594.0</td>\n",
       "    </tr>\n",
       "    <tr>\n",
       "      <th>2011-11-30</th>\n",
       "      <td>8.6</td>\n",
       "      <td>13302.0</td>\n",
       "    </tr>\n",
       "    <tr>\n",
       "      <th>2011-12-31</th>\n",
       "      <td>8.5</td>\n",
       "      <td>13093.0</td>\n",
       "    </tr>\n",
       "  </tbody>\n",
       "</table>\n",
       "<p>106 rows × 2 columns</p>\n",
       "</div>"
      ],
      "text/plain": [
       "            Iraq_unemploy_rate  Iraq_unemploy_level\n",
       "Date                                               \n",
       "2003-03-31                 5.9               8588.0\n",
       "2003-04-30                 6.0               8842.0\n",
       "2003-05-31                 6.1               8957.0\n",
       "2003-06-30                 6.3               9266.0\n",
       "2003-07-31                 6.2               9011.0\n",
       "...                        ...                  ...\n",
       "2011-08-31                 9.0              13818.0\n",
       "2011-09-30                 9.0              13948.0\n",
       "2011-10-31                 8.8              13594.0\n",
       "2011-11-30                 8.6              13302.0\n",
       "2011-12-31                 8.5              13093.0\n",
       "\n",
       "[106 rows x 2 columns]"
      ]
     },
     "execution_count": 204,
     "metadata": {},
     "output_type": "execute_result"
    }
   ],
   "source": [
    "# Get unemployment data during the war in Iraq\n",
    "\n",
    "iraq_unemp_df = quandl.get([\"FRED/UNRATE\", \"FRED/UNEMPLOY\"], trim_start = \"2003-03-1\", trim_end=\"2011-12-15\", collapse = 'monthly')\n",
    "iraq_unemp_df.columns = ['Iraq_unemploy_rate', 'Iraq_unemploy_level']\n",
    "\n",
    "\n",
    "iraq_unemp_df"
   ]
  },
  {
   "cell_type": "code",
   "execution_count": 205,
   "id": "78482d7b",
   "metadata": {},
   "outputs": [
    {
     "data": {
      "image/png": "[encoded data removed]",
      "text/plain": [
       "<Figure size 1008x432 with 1 Axes>"
      ]
     },
     "metadata": {},
     "output_type": "display_data"
    }
   ],
   "source": [
    "# Plot the graph of US unemployment during the war in Iraq\n",
    "plot_graph(iraq_unemp_df, title=\"US unemployment Rate During the War in Iraq\", y_label=\"Unemployment rate\")"
   ]
  },
  {
   "cell_type": "code",
   "execution_count": null,
   "id": "e8fe39c7",
   "metadata": {},
   "outputs": [],
   "source": []
  },
  {
   "cell_type": "code",
   "execution_count": null,
   "id": "bf903456",
   "metadata": {},
   "outputs": [],
   "source": []
  },
  {
   "cell_type": "code",
   "execution_count": null,
   "id": "90dba91d",
   "metadata": {},
   "outputs": [],
   "source": []
  }
 ],
 "metadata": {
  "kernelspec": {
   "display_name": "Python 3 (ipykernel)",
   "language": "python",
   "name": "python3"
  },
  "language_info": {
   "codemirror_mode": {
    "name": "ipython",
    "version": 3
   },
   "file_extension": ".py",
   "mimetype": "text/x-python",
   "name": "python",
   "nbconvert_exporter": "python",
   "pygments_lexer": "ipython3",
   "version": "3.9.12"
  }
 },
 "nbformat": 4,
 "nbformat_minor": 5
}
